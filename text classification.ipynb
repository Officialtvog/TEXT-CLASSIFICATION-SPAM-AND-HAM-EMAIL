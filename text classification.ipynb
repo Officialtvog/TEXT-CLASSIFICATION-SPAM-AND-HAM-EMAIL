{
 "cells": [
  {
   "cell_type": "markdown",
   "metadata": {},
   "source": [
    "****TEXT CLASSSIFICATION****\n",
    "\n",
    "******SPAM AND HAM EMAIL*******\n",
    "\n",
    "HEY,my name is temitope and you are welcome to my kernel,\n",
    "\n",
    "today from the study i  have made,i can boldly give you a run down on the level of text clssification based om the \n",
    "\n",
    "project topic CLASSIFICATION OF SPAM AND EMAIL,\n",
    "\n",
    "so while doing this we would make some findings as regatds knowing the amount of spam and ham messages....\n",
    "\n",
    "also filtering the messages,because thats actually the major....\n",
    "\n",
    "We will extract TF-IDF features from the messages using\n",
    "\n",
    "techniques like, Feature Extraction and Preprocessing, and classify\n",
    "\n",
    "the messages using logistic regression."
   ]
  },
  {
   "cell_type": "code",
   "execution_count": 3,
   "metadata": {},
   "outputs": [],
   "source": [
    "import numpy as np \n",
    "import pandas as pd \n",
    "import matplotlib.pyplot as plt\n",
    "import seaborn as sns\n",
    "from sklearn.model_selection import train_test_split\n",
    "from sklearn.feature_extraction.text import CountVectorizer\n",
    "from sklearn.metrics import accuracy_score\n",
    "from sklearn.metrics import classification_report,confusion_matrix\n",
    "from sklearn.naive_bayes import MultinomialNB\n",
    "from sklearn.linear_model.logistic import LogisticRegression\n"
   ]
  },
  {
   "cell_type": "code",
   "execution_count": 22,
   "metadata": {},
   "outputs": [
    {
     "data": {
      "text/html": [
       "<div>\n",
       "<style scoped>\n",
       "    .dataframe tbody tr th:only-of-type {\n",
       "        vertical-align: middle;\n",
       "    }\n",
       "\n",
       "    .dataframe tbody tr th {\n",
       "        vertical-align: top;\n",
       "    }\n",
       "\n",
       "    .dataframe thead th {\n",
       "        text-align: right;\n",
       "    }\n",
       "</style>\n",
       "<table border=\"1\" class=\"dataframe\">\n",
       "  <thead>\n",
       "    <tr style=\"text-align: right;\">\n",
       "      <th></th>\n",
       "      <th>0</th>\n",
       "      <th>1</th>\n",
       "      <th>2</th>\n",
       "      <th>3</th>\n",
       "      <th>4</th>\n",
       "    </tr>\n",
       "  </thead>\n",
       "  <tbody>\n",
       "    <tr>\n",
       "      <th>0</th>\n",
       "      <td>v1</td>\n",
       "      <td>v2</td>\n",
       "      <td>NaN</td>\n",
       "      <td>NaN</td>\n",
       "      <td>NaN</td>\n",
       "    </tr>\n",
       "    <tr>\n",
       "      <th>1</th>\n",
       "      <td>ham</td>\n",
       "      <td>Go until jurong point, crazy.. Available only ...</td>\n",
       "      <td>NaN</td>\n",
       "      <td>NaN</td>\n",
       "      <td>NaN</td>\n",
       "    </tr>\n",
       "    <tr>\n",
       "      <th>2</th>\n",
       "      <td>ham</td>\n",
       "      <td>Ok lar... Joking wif u oni...</td>\n",
       "      <td>NaN</td>\n",
       "      <td>NaN</td>\n",
       "      <td>NaN</td>\n",
       "    </tr>\n",
       "    <tr>\n",
       "      <th>3</th>\n",
       "      <td>spam</td>\n",
       "      <td>Free entry in 2 a wkly comp to win FA Cup fina...</td>\n",
       "      <td>NaN</td>\n",
       "      <td>NaN</td>\n",
       "      <td>NaN</td>\n",
       "    </tr>\n",
       "    <tr>\n",
       "      <th>4</th>\n",
       "      <td>ham</td>\n",
       "      <td>U dun say so early hor... U c already then say...</td>\n",
       "      <td>NaN</td>\n",
       "      <td>NaN</td>\n",
       "      <td>NaN</td>\n",
       "    </tr>\n",
       "  </tbody>\n",
       "</table>\n",
       "</div>"
      ],
      "text/plain": [
       "      0                                                  1    2    3    4\n",
       "0    v1                                                 v2  NaN  NaN  NaN\n",
       "1   ham  Go until jurong point, crazy.. Available only ...  NaN  NaN  NaN\n",
       "2   ham                      Ok lar... Joking wif u oni...  NaN  NaN  NaN\n",
       "3  spam  Free entry in 2 a wkly comp to win FA Cup fina...  NaN  NaN  NaN\n",
       "4   ham  U dun say so early hor... U c already then say...  NaN  NaN  NaN"
      ]
     },
     "execution_count": 22,
     "metadata": {},
     "output_type": "execute_result"
    }
   ],
   "source": [
    "df = pd.read_csv('sspam.csv',header = None,encoding = 'latin-1')\n",
    "df.head()"
   ]
  },
  {
   "cell_type": "code",
   "execution_count": 25,
   "metadata": {},
   "outputs": [],
   "source": [
    "#so i decided to drop the remaning useless columns,well they look useless to me!!!\n",
    "df.drop([2,3,4],axis=1, inplace= True)"
   ]
  },
  {
   "cell_type": "code",
   "execution_count": 26,
   "metadata": {},
   "outputs": [
    {
     "data": {
      "text/html": [
       "<div>\n",
       "<style scoped>\n",
       "    .dataframe tbody tr th:only-of-type {\n",
       "        vertical-align: middle;\n",
       "    }\n",
       "\n",
       "    .dataframe tbody tr th {\n",
       "        vertical-align: top;\n",
       "    }\n",
       "\n",
       "    .dataframe thead th {\n",
       "        text-align: right;\n",
       "    }\n",
       "</style>\n",
       "<table border=\"1\" class=\"dataframe\">\n",
       "  <thead>\n",
       "    <tr style=\"text-align: right;\">\n",
       "      <th></th>\n",
       "      <th>0</th>\n",
       "      <th>1</th>\n",
       "    </tr>\n",
       "  </thead>\n",
       "  <tbody>\n",
       "    <tr>\n",
       "      <th>0</th>\n",
       "      <td>v1</td>\n",
       "      <td>v2</td>\n",
       "    </tr>\n",
       "    <tr>\n",
       "      <th>1</th>\n",
       "      <td>ham</td>\n",
       "      <td>Go until jurong point, crazy.. Available only ...</td>\n",
       "    </tr>\n",
       "    <tr>\n",
       "      <th>2</th>\n",
       "      <td>ham</td>\n",
       "      <td>Ok lar... Joking wif u oni...</td>\n",
       "    </tr>\n",
       "    <tr>\n",
       "      <th>3</th>\n",
       "      <td>spam</td>\n",
       "      <td>Free entry in 2 a wkly comp to win FA Cup fina...</td>\n",
       "    </tr>\n",
       "    <tr>\n",
       "      <th>4</th>\n",
       "      <td>ham</td>\n",
       "      <td>U dun say so early hor... U c already then say...</td>\n",
       "    </tr>\n",
       "  </tbody>\n",
       "</table>\n",
       "</div>"
      ],
      "text/plain": [
       "      0                                                  1\n",
       "0    v1                                                 v2\n",
       "1   ham  Go until jurong point, crazy.. Available only ...\n",
       "2   ham                      Ok lar... Joking wif u oni...\n",
       "3  spam  Free entry in 2 a wkly comp to win FA Cup fina...\n",
       "4   ham  U dun say so early hor... U c already then say..."
      ]
     },
     "execution_count": 26,
     "metadata": {},
     "output_type": "execute_result"
    }
   ],
   "source": [
    "df.head()"
   ]
  },
  {
   "cell_type": "code",
   "execution_count": 32,
   "metadata": {},
   "outputs": [
    {
     "name": "stdout",
     "output_type": "stream",
     "text": [
      "Number of spam messages: 747\n",
      "Number of ham messages: 4825\n"
     ]
    }
   ],
   "source": [
    "print ('Number of spam messages:', df[df[0] == 'spam'][0].count())\n",
    "print ('Number of ham messages:', df[df[0] == 'ham'][0].count())\n"
   ]
  },
  {
   "cell_type": "code",
   "execution_count": 129,
   "metadata": {},
   "outputs": [
    {
     "data": {
      "text/plain": [
       "0    5573\n",
       "1    5573\n",
       "dtype: int64"
      ]
     },
     "execution_count": 129,
     "metadata": {},
     "output_type": "execute_result"
    }
   ],
   "source": [
    "df.count()"
   ]
  },
  {
   "cell_type": "markdown",
   "metadata": {},
   "source": [
    "A binary label and a text message comprise each row. The data set contains 5,573\n",
    "\n",
    "instances; 4,825 messages are ham and the remaining 747 messages are spam. The\n",
    "\n",
    "ham messages are labeled with zero, and the spam messages are labeled with one. "
   ]
  },
  {
   "cell_type": "code",
   "execution_count": 40,
   "metadata": {},
   "outputs": [
    {
     "data": {
      "text/html": [
       "<div>\n",
       "<style scoped>\n",
       "    .dataframe tbody tr th:only-of-type {\n",
       "        vertical-align: middle;\n",
       "    }\n",
       "\n",
       "    .dataframe tbody tr th {\n",
       "        vertical-align: top;\n",
       "    }\n",
       "\n",
       "    .dataframe thead th {\n",
       "        text-align: right;\n",
       "    }\n",
       "</style>\n",
       "<table border=\"1\" class=\"dataframe\">\n",
       "  <thead>\n",
       "    <tr style=\"text-align: right;\">\n",
       "      <th></th>\n",
       "      <th>0</th>\n",
       "      <th>1</th>\n",
       "    </tr>\n",
       "  </thead>\n",
       "  <tbody>\n",
       "    <tr>\n",
       "      <th>3</th>\n",
       "      <td>spam</td>\n",
       "      <td>Free entry in 2 a wkly comp to win FA Cup fina...</td>\n",
       "    </tr>\n",
       "    <tr>\n",
       "      <th>6</th>\n",
       "      <td>spam</td>\n",
       "      <td>FreeMsg Hey there darling it's been 3 week's n...</td>\n",
       "    </tr>\n",
       "    <tr>\n",
       "      <th>9</th>\n",
       "      <td>spam</td>\n",
       "      <td>WINNER!! As a valued network customer you have...</td>\n",
       "    </tr>\n",
       "    <tr>\n",
       "      <th>10</th>\n",
       "      <td>spam</td>\n",
       "      <td>Had your mobile 11 months or more? U R entitle...</td>\n",
       "    </tr>\n",
       "    <tr>\n",
       "      <th>12</th>\n",
       "      <td>spam</td>\n",
       "      <td>SIX chances to win CASH! From 100 to 20,000 po...</td>\n",
       "    </tr>\n",
       "  </tbody>\n",
       "</table>\n",
       "</div>"
      ],
      "text/plain": [
       "       0                                                  1\n",
       "3   spam  Free entry in 2 a wkly comp to win FA Cup fina...\n",
       "6   spam  FreeMsg Hey there darling it's been 3 week's n...\n",
       "9   spam  WINNER!! As a valued network customer you have...\n",
       "10  spam  Had your mobile 11 months or more? U R entitle...\n",
       "12  spam  SIX chances to win CASH! From 100 to 20,000 po..."
      ]
     },
     "execution_count": 40,
     "metadata": {},
     "output_type": "execute_result"
    }
   ],
   "source": [
    "#Extract SPAM messages\n",
    "spam_messages = df[df[0]==\"spam\"]\n",
    "spam_messages.head() #Display first 5 rows of SPAM messages"
   ]
  },
  {
   "cell_type": "code",
   "execution_count": 41,
   "metadata": {},
   "outputs": [
    {
     "data": {
      "text/html": [
       "<div>\n",
       "<style scoped>\n",
       "    .dataframe tbody tr th:only-of-type {\n",
       "        vertical-align: middle;\n",
       "    }\n",
       "\n",
       "    .dataframe tbody tr th {\n",
       "        vertical-align: top;\n",
       "    }\n",
       "\n",
       "    .dataframe thead th {\n",
       "        text-align: right;\n",
       "    }\n",
       "</style>\n",
       "<table border=\"1\" class=\"dataframe\">\n",
       "  <thead>\n",
       "    <tr style=\"text-align: right;\">\n",
       "      <th></th>\n",
       "      <th>0</th>\n",
       "      <th>1</th>\n",
       "    </tr>\n",
       "  </thead>\n",
       "  <tbody>\n",
       "    <tr>\n",
       "      <th>count</th>\n",
       "      <td>747</td>\n",
       "      <td>747</td>\n",
       "    </tr>\n",
       "    <tr>\n",
       "      <th>unique</th>\n",
       "      <td>1</td>\n",
       "      <td>653</td>\n",
       "    </tr>\n",
       "    <tr>\n",
       "      <th>top</th>\n",
       "      <td>spam</td>\n",
       "      <td>Please call our customer service representativ...</td>\n",
       "    </tr>\n",
       "    <tr>\n",
       "      <th>freq</th>\n",
       "      <td>747</td>\n",
       "      <td>4</td>\n",
       "    </tr>\n",
       "  </tbody>\n",
       "</table>\n",
       "</div>"
      ],
      "text/plain": [
       "           0                                                  1\n",
       "count    747                                                747\n",
       "unique     1                                                653\n",
       "top     spam  Please call our customer service representativ...\n",
       "freq     747                                                  4"
      ]
     },
     "execution_count": 41,
     "metadata": {},
     "output_type": "execute_result"
    }
   ],
   "source": [
    "#Find count and unique messages count of SPAM messages.\n",
    "spam_messages.describe()"
   ]
  },
  {
   "cell_type": "code",
   "execution_count": 115,
   "metadata": {},
   "outputs": [
    {
     "data": {
      "image/png": "[encoded data removed]",
      "text/plain": [
       "<Figure size 432x288 with 1 Axes>"
      ]
     },
     "metadata": {
      "needs_background": "light"
     },
     "output_type": "display_data"
    }
   ],
   "source": [
    "#Plot the counts of HAM (non SPAM) vs SPAM\n",
    "sns.countplot(data = df, y= df[0]).set_title(\"Amount of spam and no-spam messages\")\n",
    "plt.show()"
   ]
  },
  {
   "cell_type": "markdown",
   "metadata": {},
   "source": [
    "lets split our data into test and train....."
   ]
  },
  {
   "cell_type": "code",
   "execution_count": 118,
   "metadata": {},
   "outputs": [
    {
     "name": "stdout",
     "output_type": "stream",
     "text": [
      "data_train, labels_train :  (3343,) (3343,)\n",
      "data_test, labels_test:  (2230,) (2230,)\n"
     ]
    }
   ],
   "source": [
    "data_train, data_test, labels_train, labels_test = train_test_split(df[1],df[0],test_size=0.4,random_state=0) \n",
    "print(\"data_train, labels_train : \",data_train.shape, labels_train.shape)\n",
    "print(\"data_test, labels_test: \",data_test.shape, labels_test.shape)"
   ]
  },
  {
   "cell_type": "markdown",
   "metadata": {},
   "source": [
    "**Extraction & CountVectorize**\n",
    "\n",
    "\n",
    "*The CountVectorizer provides a simple way to both tokenize a collection of text documents and build a vocabulary of known words, but also to encode new documents using that vocabulary.*"
   ]
  },
  {
   "cell_type": "markdown",
   "metadata": {},
   "source": [
    "In this same context we have fit and transform,\n",
    "\n",
    "in which FIT:build dict(i.e, word->wordID)\n",
    "    TRANSFORM :Convert document(i.e, each line in the file) to word vector"
   ]
  },
  {
   "cell_type": "code",
   "execution_count": 119,
   "metadata": {},
   "outputs": [],
   "source": [
    "vectorizer = CountVectorizer() \n",
    "df_train_count = vectorizer.fit_transform(data_train)\n",
    "df_test_count  = vectorizer.transform(data_test)"
   ]
  },
  {
   "cell_type": "markdown",
   "metadata": {},
   "source": [
    "**Modelling & training**"
   ]
  },
  {
   "cell_type": "markdown",
   "metadata": {},
   "source": [
    "Multinomial Naive Bayes is a specialized version of Naive Bayes that is designed more for text documents. Whereas simple naive Bayes would model a document as the presence and absence of particular words, multinomial naive bayes explicitly models the word counts and adjusts the underlying calculations to deal with in.\n",
    "\n",
    "It is a classification technique based on Bayes' Theorem with an assumption of independence among predictors. In simple terms, a Naive Bayes classifier assumes that the presence of a particular feature in a class is unrelated to the presence of any other feature."
   ]
  },
  {
   "cell_type": "code",
   "execution_count": 120,
   "metadata": {},
   "outputs": [
    {
     "data": {
      "text/plain": [
       "array(['ham', 'ham', 'ham', ..., 'ham', 'spam', 'ham'], dtype='<U4')"
      ]
     },
     "execution_count": 120,
     "metadata": {},
     "output_type": "execute_result"
    }
   ],
   "source": [
    "clf = MultinomialNB()\n",
    "clf.fit(df_train_count, labels_train)\n",
    "predictions = clf.predict(df_test_count)\n",
    "predictions"
   ]
  },
  {
   "cell_type": "markdown",
   "metadata": {},
   "source": [
    " we create an instance of LogisticRegression and train our model. Like\n",
    "LinearRegression, LogisticRegression implements the fit() and predict()\n",
    "methods. As a sanity check, we printed a few predictions for manual inspection:"
   ]
  },
  {
   "cell_type": "code",
   "execution_count": 125,
   "metadata": {},
   "outputs": [
    {
     "name": "stdout",
     "output_type": "stream",
     "text": [
      "Prediction: ham. Message:   (0, 870)\t1\n",
      "  (0, 925)\t1\n",
      "  (0, 1308)\t1\n",
      "  (0, 2656)\t1\n",
      "  (0, 3187)\t1\n",
      "  (0, 3591)\t1\n",
      "  (0, 3732)\t1\n",
      "  (0, 4157)\t1\n",
      "  (0, 5309)\t1\n",
      "  (0, 5377)\t1\n",
      "  (0, 5809)\t2\n",
      "  (0, 6391)\t1\n",
      "  (0, 6455)\t1\n",
      "  (0, 6567)\t1\n",
      "Prediction: ham. Message:   (0, 647)\t1\n",
      "  (0, 870)\t1\n",
      "  (0, 967)\t1\n",
      "  (0, 1318)\t1\n",
      "  (0, 1358)\t1\n",
      "  (0, 2982)\t1\n",
      "  (0, 3616)\t1\n",
      "  (0, 4089)\t1\n",
      "  (0, 5803)\t1\n",
      "  (0, 6567)\t1\n",
      "Prediction: ham. Message:   (0, 690)\t1\n",
      "  (0, 706)\t1\n",
      "  (0, 1879)\t1\n",
      "  (0, 2065)\t1\n",
      "  (0, 2529)\t1\n",
      "  (0, 2670)\t1\n",
      "  (0, 2677)\t1\n",
      "  (0, 3574)\t1\n",
      "  (0, 3960)\t2\n",
      "  (0, 4173)\t1\n",
      "  (0, 6024)\t1\n",
      "Prediction: ham. Message:   (0, 339)\t1\n",
      "  (0, 888)\t1\n",
      "  (0, 898)\t1\n",
      "  (0, 1048)\t1\n",
      "  (0, 1069)\t1\n",
      "  (0, 1358)\t1\n",
      "  (0, 2015)\t1\n",
      "  (0, 2021)\t1\n",
      "  (0, 2059)\t1\n",
      "  (0, 2838)\t1\n",
      "  (0, 3050)\t2\n",
      "  (0, 3422)\t1\n",
      "  (0, 3807)\t1\n",
      "  (0, 3875)\t1\n",
      "  (0, 4101)\t1\n",
      "  (0, 4134)\t1\n",
      "  (0, 4168)\t1\n",
      "  (0, 4183)\t1\n",
      "  (0, 4559)\t1\n",
      "  (0, 5207)\t1\n",
      "  (0, 5417)\t1\n",
      "  (0, 5803)\t1\n",
      "  (0, 5912)\t1\n",
      "  (0, 6276)\t1\n",
      "  (0, 6436)\t1\n",
      "  (0, 6442)\t1\n",
      "  (0, 6567)\t2\n",
      "Prediction: ham. Message:   (0, 690)\t1\n",
      "  (0, 1094)\t1\n",
      "  (0, 1108)\t1\n",
      "  (0, 1733)\t1\n",
      "  (0, 2638)\t1\n",
      "  (0, 2732)\t1\n",
      "  (0, 2848)\t1\n",
      "  (0, 3085)\t1\n",
      "  (0, 3177)\t1\n",
      "  (0, 3298)\t1\n",
      "  (0, 4249)\t1\n",
      "  (0, 4760)\t1\n",
      "  (0, 4984)\t1\n",
      "  (0, 5912)\t1\n",
      "  (0, 5925)\t1\n",
      "  (0, 5965)\t1\n",
      "  (0, 6189)\t1\n",
      "  (0, 6471)\t1\n",
      "  (0, 6553)\t1\n",
      "Prediction: ham. Message:   (0, 4114)\t1\n",
      "  (0, 4186)\t1\n",
      "  (0, 4607)\t1\n",
      "  (0, 5299)\t1\n"
     ]
    }
   ],
   "source": [
    "from sklearn.linear_model.logistic import LogisticRegression\n",
    "\n",
    "classifier = LogisticRegression()\n",
    "classifier.fit(df_train_count, labels_train)\n",
    "predictions = classifier.predict(df_test_count)\n",
    "for i, prediction in enumerate(predictions[:6]):\n",
    "    print ('Prediction: %s. Message: %s' % (prediction, df_test_count[i]))\n"
   ]
  },
  {
   "cell_type": "code",
   "execution_count": 122,
   "metadata": {},
   "outputs": [
    {
     "name": "stdout",
     "output_type": "stream",
     "text": [
      "accuracy_score :  0.9802690582959641\n"
     ]
    }
   ],
   "source": [
    "print (\"accuracy_score : \", accuracy_score(labels_test, predictions))"
   ]
  },
  {
   "cell_type": "markdown",
   "metadata": {},
   "source": [
    "**Confusion Matrix**\n",
    "\n",
    "\n",
    "*A confusion matrix is a table that is often used to describe the performance of a classification model (or “classifier”) on a set of test data for which the true values are known. It allows the visualization of the performance of an algorithm.*"
   ]
  },
  {
   "cell_type": "code",
   "execution_count": 123,
   "metadata": {},
   "outputs": [
    {
     "name": "stdout",
     "output_type": "stream",
     "text": [
      "confusion_matrix : \n",
      " [[1922    4]\n",
      " [  40  264]]\n"
     ]
    }
   ],
   "source": [
    "print (\"confusion_matrix : \\n\", confusion_matrix(labels_test, predictions))"
   ]
  },
  {
   "cell_type": "code",
   "execution_count": 130,
   "metadata": {},
   "outputs": [
    {
     "name": "stdout",
     "output_type": "stream",
     "text": [
      "[[1922   40]\n",
      " [   4  264]]\n"
     ]
    },
    {
     "data": {
      "image/png": "[encoded data removed]",
      "text/plain": [
       "<Figure size 288x288 with 2 Axes>"
      ]
     },
     "metadata": {
      "needs_background": "light"
     },
     "output_type": "display_data"
    }
   ],
   "source": [
    "from sklearn.metrics import confusion_matrix\n",
    "import matplotlib.pyplot as plt\n",
    "\n",
    "confusion_matrix = confusion_matrix(predictions, labels_test)\n",
    "print(confusion_matrix)\n",
    "plt.matshow(confusion_matrix)\n",
    "plt.title('Confusion matrix')\n",
    "plt.colorbar()\n",
    "plt.ylabel('True label')\n",
    "plt.xlabel('Predicted label')\n",
    "plt.show()\n"
   ]
  },
  {
   "cell_type": "markdown",
   "metadata": {},
   "source": [
    "The confusion matrix indicates that there were\n",
    "\n",
    "1922  true negative predictions,\n",
    "\n",
    "264 true positive predictions,\n",
    "\n",
    "4 false negative predictions,\n",
    "\n",
    "and 264 false positive predictions. "
   ]
  },
  {
   "cell_type": "markdown",
   "metadata": {},
   "source": [
    "***CONCLUSION OF MY TEXT CLASSIFICATION***\n",
    "\n",
    "..PLS DO CHECK AND GIVE ME A COMMENT.....\n",
    "\n",
    "THANKS AND SEE YOU IN MY NEXT WORKBOOK!!!!!!\n",
    "\n",
    "\n"
   ]
  },
  {
   "cell_type": "code",
   "execution_count": null,
   "metadata": {},
   "outputs": [],
   "source": []
  }
 ],
 "metadata": {
  "kernelspec": {
   "display_name": "Python 3",
   "language": "python",
   "name": "python3"
  },
  "language_info": {
   "codemirror_mode": {
    "name": "ipython",
    "version": 3
   },
   "file_extension": ".py",
   "mimetype": "text/x-python",
   "name": "python",
   "nbconvert_exporter": "python",
   "pygments_lexer": "ipython3",
   "version": "3.7.6"
  }
 },
 "nbformat": 4,
 "nbformat_minor": 4
}
